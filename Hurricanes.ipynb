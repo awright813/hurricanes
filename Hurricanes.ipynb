{
 "cells": [
  {
   "cell_type": "code",
   "execution_count": 2,
   "id": "f53438c4",
   "metadata": {},
   "outputs": [],
   "source": [
    "# names of hurricanes\n",
    "names = ['Cuba I', 'San Felipe II Okeechobee', 'Bahamas', 'Cuba II',\n",
    "         'CubaBrownsville', 'Tampico', 'Labor Day', 'New England', \n",
    "         'Carol', 'Janet', 'Carla', 'Hattie', 'Beulah', 'Camille', \n",
    "         'Edith', 'Anita', 'David', 'Allen', 'Gilbert', 'Hugo', \n",
    "         'Andrew', 'Mitch', 'Isabel', 'Ivan', 'Emily', 'Katrina', \n",
    "         'Rita', 'Wilma', 'Dean', 'Felix', 'Matthew', 'Irma', \n",
    "         'Maria', 'Michael']\n",
    "\n",
    "# months of hurricanes\n",
    "months = ['October', 'September', 'September', 'November', 'August',\n",
    "          'September', 'September', 'September', 'September', \n",
    "          'September', 'September', 'October', 'September', \n",
    "          'August', 'September', 'September', 'August', 'August', \n",
    "          'September', 'September', 'August', 'October', 'September',\n",
    "          'September', 'July', 'August', 'September', 'October', \n",
    "          'August', 'September', 'October', 'September', 'September',\n",
    "          'October']\n",
    "\n",
    "# years of hurricanes\n",
    "years = [1924, 1928, 1932, 1932, 1933, 1933, 1935, 1938, 1953, \n",
    "         1955, 1961, 1961, 1967, 1969, 1971, 1977, 1979, 1980, \n",
    "         1988, 1989, 1992, 1998, 2003, 2004, 2005, 2005, 2005, \n",
    "         2005, 2007, 2007, 2016, 2017, 2017, 2018]\n",
    "\n",
    "# maximum sustained winds (mph) of hurricanes\n",
    "max_sustained_winds = [165, 160, 160, 175, 160, 160, 185, 160, \n",
    "                       160, 175, 175, 160, 160, 175, 160, 175, \n",
    "                       175, 190, 185, 160, 175, 180, 165, 165, \n",
    "                       160, 175, 180, 185, 175, 175, 165, 180, \n",
    "                       175, 160]\n",
    "\n",
    "# areas affected by each hurricane\n",
    "areas_affected = [['Central America', 'Mexico', 'Cuba', 'Florida', \n",
    "                   'The Bahamas'], ['Lesser Antilles', 'The Bahamas',\n",
    "                                    'United States East Coast', \n",
    "                                    'Atlantic Canada'], \n",
    "                  ['The Bahamas', 'Northeastern United States'], \n",
    "                  ['Lesser Antilles', 'Jamaica', 'Cayman Islands', \n",
    "                   'Cuba', 'The Bahamas', 'Bermuda'], \n",
    "                  ['The Bahamas', 'Cuba', 'Florida', 'Texas', \n",
    "                   'Tamaulipas'], ['Jamaica', 'Yucatn Peninsula'], \n",
    "                  ['The Bahamas', 'Florida', 'Georgia', 'The Carolinas',\n",
    "                   'Virginia'], ['Southeastern United States', \n",
    "                                 'Northeastern United States', \n",
    "                                 'Southwestern Quebec'], \n",
    "                  ['Bermuda', 'New England', 'Atlantic Canada'], \n",
    "                  ['Lesser Antilles', 'Central America'], \n",
    "                  ['Texas', 'Louisiana', 'Midwestern United States'], \n",
    "                  ['Central America'], ['The Caribbean', 'Mexico', \n",
    "                                        'Texas'], \n",
    "                  ['Cuba', 'United States Gulf Coast'], \n",
    "                  ['The Caribbean','Central America', 'Mexico', \n",
    "                   'United States Gulf Coast'], ['Mexico'], \n",
    "                  ['The Caribbean', 'United States East coast'], \n",
    "                  ['The Caribbean', 'Yucatn Peninsula', 'Mexico', \n",
    "                   'South Texas'], ['Jamaica', 'Venezuela', \n",
    "                                    'Central America', 'Hispaniola',\n",
    "                                    'Mexico'], \n",
    "                  ['The Caribbean', 'United States East Coast'], \n",
    "                  ['The Bahamas', 'Florida', \n",
    "                   'United States Gulf Coast'], \n",
    "                  ['Central America', 'Yucatn Peninsula', \n",
    "                   'South Florida'], ['Greater Antilles', \n",
    "                                      'Bahamas', \n",
    "                                      'Eastern United States', \n",
    "                                      'Ontario'], \n",
    "                  ['The Caribbean', 'Venezuela', \n",
    "                   'United States Gulf Coast'], \n",
    "                  ['Windward Islands', 'Jamaica', 'Mexico', 'Texas'], \n",
    "                  ['Bahamas', 'United States Gulf Coast'], \n",
    "                  ['Cuba', 'United States Gulf Coast'], \n",
    "                  ['Greater Antilles', 'Central America', 'Florida'], \n",
    "                  ['The Caribbean', 'Central America'], \n",
    "                  ['Nicaragua', 'Honduras'], \n",
    "                  ['Antilles', 'Venezuela', 'Colombia', \n",
    "                   'United States East Coast', 'Atlantic Canada'], \n",
    "                  ['Cape Verde', 'The Caribbean', \n",
    "                   'British Virgin Islands', 'U.S. Virgin Islands', \n",
    "                   'Cuba', 'Florida'], \n",
    "                  ['Lesser Antilles', 'Virgin Islands', \n",
    "                   'Puerto Rico', 'Dominican Republic', \n",
    "                   'Turks and Caicos Islands'], \n",
    "                  ['Central America', \n",
    "                   'United States Gulf Coast (especially Florida Panhandle)']]\n",
    "\n",
    "# damages (USD($)) of hurricanes\n",
    "damages = ['Damages not recorded', '100M', 'Damages not recorded', \n",
    "           '40M', '27.9M', '5M', 'Damages not recorded', '306M', \n",
    "           '2M', '65.8M', '326M', '60.3M', '208M', '1.42B', '25.4M',\n",
    "           'Damages not recorded', '1.54B', '1.24B', '7.1B', '10B', \n",
    "           '26.5B', '6.2B', '5.37B', '23.3B', '1.01B', '125B', '12B',\n",
    "           '29.4B', '1.76B', '720M', '15.1B', '64.8B', '91.6B', \n",
    "           '25.1B']\n",
    "\n",
    "# deaths for each hurricane\n",
    "deaths = [90,4000,16,3103,179,184,408,682,5,1023,43,319,688,259,37,\n",
    "          11,2068,269,318,107,65,19325,51,124,17,1836,125,87,45,133,\n",
    "          603,138,3057,74]\n"
   ]
  },
  {
   "cell_type": "code",
   "execution_count": 46,
   "id": "9339710b",
   "metadata": {},
   "outputs": [
    {
     "name": "stdout",
     "output_type": "stream",
     "text": [
      "['Damages not recorded', 100000000.0, 'Damages not recorded', 40000000.0, 27900000.0, 5000000.0, 'Damages not recorded', 306000000.0, 2000000.0, 65800000.0, 326000000.0, 60300000.0, 208000000.0, 1420000000.0, 25400000.0, 'Damages not recorded', 1540000000.0, 1240000000.0, 7100000000.0, 10000000000.0, 26500000000.0, 6200000000.0, 5370000000.0, 23300000000.0, 1010000000.0, 125000000000.0, 12000000000.0, 29400000000.0, 1760000000.0, 720000000.0, 15100000000.0, 64800000000.0, 91600000000.0, 25100000000.0]\n"
     ]
    }
   ],
   "source": [
    "updated_damages = []\n",
    "def fill_updated_damages(lst):\n",
    "  for item in damages:\n",
    "    if item == 'Damages not recorded':\n",
    "      updated_damages.append(item)\n",
    "    elif item[-1] == 'M':\n",
    "      converted_num = float(item[:-1])*1000000\n",
    "      updated_damages.append(converted_num)\n",
    "    elif item[-1] == 'B':\n",
    "      converted_num = float(item[:-1])*1000000000\n",
    "      updated_damages.append(converted_num)\n",
    "        \n",
    "fill_updated_damages(damages)\n",
    "print(updated_damages)\n"
   ]
  },
  {
   "cell_type": "code",
   "execution_count": 104,
   "id": "54d54b3e",
   "metadata": {},
   "outputs": [
    {
     "name": "stdout",
     "output_type": "stream",
     "text": [
      "{'Cuba I': {'Name': 'Cuba I', 'Month': 'October', 'Year': 1924, 'Max Sustained Wind': 165, 'Areas Affected': ['Central America', 'Mexico', 'Cuba', 'Florida', 'The Bahamas'], 'Damage': 'Damages not recorded', 'Deaths': 90}, 'San Felipe II Okeechobee': {'Name': 'San Felipe II Okeechobee', 'Month': 'September', 'Year': 1928, 'Max Sustained Wind': 160, 'Areas Affected': ['Lesser Antilles', 'The Bahamas', 'United States East Coast', 'Atlantic Canada'], 'Damage': 100000000.0, 'Deaths': 4000}, 'Bahamas': {'Name': 'Bahamas', 'Month': 'September', 'Year': 1932, 'Max Sustained Wind': 160, 'Areas Affected': ['The Bahamas', 'Northeastern United States'], 'Damage': 'Damages not recorded', 'Deaths': 16}, 'Cuba II': {'Name': 'Cuba II', 'Month': 'November', 'Year': 1932, 'Max Sustained Wind': 175, 'Areas Affected': ['Lesser Antilles', 'Jamaica', 'Cayman Islands', 'Cuba', 'The Bahamas', 'Bermuda'], 'Damage': 40000000.0, 'Deaths': 3103}, 'CubaBrownsville': {'Name': 'CubaBrownsville', 'Month': 'August', 'Year': 1933, 'Max Sustained Wind': 160, 'Areas Affected': ['The Bahamas', 'Cuba', 'Florida', 'Texas', 'Tamaulipas'], 'Damage': 27900000.0, 'Deaths': 179}, 'Tampico': {'Name': 'Tampico', 'Month': 'September', 'Year': 1933, 'Max Sustained Wind': 160, 'Areas Affected': ['Jamaica', 'Yucatn Peninsula'], 'Damage': 5000000.0, 'Deaths': 184}, 'Labor Day': {'Name': 'Labor Day', 'Month': 'September', 'Year': 1935, 'Max Sustained Wind': 185, 'Areas Affected': ['The Bahamas', 'Florida', 'Georgia', 'The Carolinas', 'Virginia'], 'Damage': 'Damages not recorded', 'Deaths': 408}, 'New England': {'Name': 'New England', 'Month': 'September', 'Year': 1938, 'Max Sustained Wind': 160, 'Areas Affected': ['Southeastern United States', 'Northeastern United States', 'Southwestern Quebec'], 'Damage': 306000000.0, 'Deaths': 682}, 'Carol': {'Name': 'Carol', 'Month': 'September', 'Year': 1953, 'Max Sustained Wind': 160, 'Areas Affected': ['Bermuda', 'New England', 'Atlantic Canada'], 'Damage': 2000000.0, 'Deaths': 5}, 'Janet': {'Name': 'Janet', 'Month': 'September', 'Year': 1955, 'Max Sustained Wind': 175, 'Areas Affected': ['Lesser Antilles', 'Central America'], 'Damage': 65800000.0, 'Deaths': 1023}, 'Carla': {'Name': 'Carla', 'Month': 'September', 'Year': 1961, 'Max Sustained Wind': 175, 'Areas Affected': ['Texas', 'Louisiana', 'Midwestern United States'], 'Damage': 326000000.0, 'Deaths': 43}, 'Hattie': {'Name': 'Hattie', 'Month': 'October', 'Year': 1961, 'Max Sustained Wind': 160, 'Areas Affected': ['Central America'], 'Damage': 60300000.0, 'Deaths': 319}, 'Beulah': {'Name': 'Beulah', 'Month': 'September', 'Year': 1967, 'Max Sustained Wind': 160, 'Areas Affected': ['The Caribbean', 'Mexico', 'Texas'], 'Damage': 208000000.0, 'Deaths': 688}, 'Camille': {'Name': 'Camille', 'Month': 'August', 'Year': 1969, 'Max Sustained Wind': 175, 'Areas Affected': ['Cuba', 'United States Gulf Coast'], 'Damage': 1420000000.0, 'Deaths': 259}, 'Edith': {'Name': 'Edith', 'Month': 'September', 'Year': 1971, 'Max Sustained Wind': 160, 'Areas Affected': ['The Caribbean', 'Central America', 'Mexico', 'United States Gulf Coast'], 'Damage': 25400000.0, 'Deaths': 37}, 'Anita': {'Name': 'Anita', 'Month': 'September', 'Year': 1977, 'Max Sustained Wind': 175, 'Areas Affected': ['Mexico'], 'Damage': 'Damages not recorded', 'Deaths': 11}, 'David': {'Name': 'David', 'Month': 'August', 'Year': 1979, 'Max Sustained Wind': 175, 'Areas Affected': ['The Caribbean', 'United States East coast'], 'Damage': 1540000000.0, 'Deaths': 2068}, 'Allen': {'Name': 'Allen', 'Month': 'August', 'Year': 1980, 'Max Sustained Wind': 190, 'Areas Affected': ['The Caribbean', 'Yucatn Peninsula', 'Mexico', 'South Texas'], 'Damage': 1240000000.0, 'Deaths': 269}, 'Gilbert': {'Name': 'Gilbert', 'Month': 'September', 'Year': 1988, 'Max Sustained Wind': 185, 'Areas Affected': ['Jamaica', 'Venezuela', 'Central America', 'Hispaniola', 'Mexico'], 'Damage': 7100000000.0, 'Deaths': 318}, 'Hugo': {'Name': 'Hugo', 'Month': 'September', 'Year': 1989, 'Max Sustained Wind': 160, 'Areas Affected': ['The Caribbean', 'United States East Coast'], 'Damage': 10000000000.0, 'Deaths': 107}, 'Andrew': {'Name': 'Andrew', 'Month': 'August', 'Year': 1992, 'Max Sustained Wind': 175, 'Areas Affected': ['The Bahamas', 'Florida', 'United States Gulf Coast'], 'Damage': 26500000000.0, 'Deaths': 65}, 'Mitch': {'Name': 'Mitch', 'Month': 'October', 'Year': 1998, 'Max Sustained Wind': 180, 'Areas Affected': ['Central America', 'Yucatn Peninsula', 'South Florida'], 'Damage': 6200000000.0, 'Deaths': 19325}, 'Isabel': {'Name': 'Isabel', 'Month': 'September', 'Year': 2003, 'Max Sustained Wind': 165, 'Areas Affected': ['Greater Antilles', 'Bahamas', 'Eastern United States', 'Ontario'], 'Damage': 5370000000.0, 'Deaths': 51}, 'Ivan': {'Name': 'Ivan', 'Month': 'September', 'Year': 2004, 'Max Sustained Wind': 165, 'Areas Affected': ['The Caribbean', 'Venezuela', 'United States Gulf Coast'], 'Damage': 23300000000.0, 'Deaths': 124}, 'Emily': {'Name': 'Emily', 'Month': 'July', 'Year': 2005, 'Max Sustained Wind': 160, 'Areas Affected': ['Windward Islands', 'Jamaica', 'Mexico', 'Texas'], 'Damage': 1010000000.0, 'Deaths': 17}, 'Katrina': {'Name': 'Katrina', 'Month': 'August', 'Year': 2005, 'Max Sustained Wind': 175, 'Areas Affected': ['Bahamas', 'United States Gulf Coast'], 'Damage': 125000000000.0, 'Deaths': 1836}, 'Rita': {'Name': 'Rita', 'Month': 'September', 'Year': 2005, 'Max Sustained Wind': 180, 'Areas Affected': ['Cuba', 'United States Gulf Coast'], 'Damage': 12000000000.0, 'Deaths': 125}, 'Wilma': {'Name': 'Wilma', 'Month': 'October', 'Year': 2005, 'Max Sustained Wind': 185, 'Areas Affected': ['Greater Antilles', 'Central America', 'Florida'], 'Damage': 29400000000.0, 'Deaths': 87}, 'Dean': {'Name': 'Dean', 'Month': 'August', 'Year': 2007, 'Max Sustained Wind': 175, 'Areas Affected': ['The Caribbean', 'Central America'], 'Damage': 1760000000.0, 'Deaths': 45}, 'Felix': {'Name': 'Felix', 'Month': 'September', 'Year': 2007, 'Max Sustained Wind': 175, 'Areas Affected': ['Nicaragua', 'Honduras'], 'Damage': 720000000.0, 'Deaths': 133}, 'Matthew': {'Name': 'Matthew', 'Month': 'October', 'Year': 2016, 'Max Sustained Wind': 165, 'Areas Affected': ['Antilles', 'Venezuela', 'Colombia', 'United States East Coast', 'Atlantic Canada'], 'Damage': 15100000000.0, 'Deaths': 603}, 'Irma': {'Name': 'Irma', 'Month': 'September', 'Year': 2017, 'Max Sustained Wind': 180, 'Areas Affected': ['Cape Verde', 'The Caribbean', 'British Virgin Islands', 'U.S. Virgin Islands', 'Cuba', 'Florida'], 'Damage': 64800000000.0, 'Deaths': 138}, 'Maria': {'Name': 'Maria', 'Month': 'September', 'Year': 2017, 'Max Sustained Wind': 175, 'Areas Affected': ['Lesser Antilles', 'Virgin Islands', 'Puerto Rico', 'Dominican Republic', 'Turks and Caicos Islands'], 'Damage': 91600000000.0, 'Deaths': 3057}, 'Michael': {'Name': 'Michael', 'Month': 'October', 'Year': 2018, 'Max Sustained Wind': 160, 'Areas Affected': ['Central America', 'United States Gulf Coast (especially Florida Panhandle)'], 'Damage': 25100000000.0, 'Deaths': 74}}\n"
     ]
    }
   ],
   "source": [
    "hurricane_dictionary = {}\n",
    "def fill_hurricane_dictionary(names, months, years, \n",
    "                                max_sustained_winds, areas_affected, \n",
    "                                damages, deaths):\n",
    "    count = 0\n",
    "    while count<=(len(names)-1):\n",
    "        hurricane_dictionary.update({names[count]:{'Name':names[count]\n",
    "                                                   , 'Month':\n",
    "                                                   months[count], \n",
    "                                                   'Year':years[count]\n",
    "                                                   , 'Max Sustained Wind'\n",
    "                                                   :max_sustained_winds\n",
    "                                                   [count], \n",
    "                                                   'Areas Affected':\n",
    "                                                   areas_affected[count], \n",
    "                                                   'Damage':damages[count], \n",
    "                                                   'Deaths':deaths[count]}})\n",
    "        \n",
    "        count += 1\n",
    "\n",
    "\n",
    "fill_hurricane_dictionary(names, months, years, max_sustained_winds, \n",
    "                          areas_affected, updated_damages, deaths)\n",
    "print(hurricane_dictionary)\n"
   ]
  },
  {
   "cell_type": "code",
   "execution_count": 51,
   "id": "bcf08599",
   "metadata": {},
   "outputs": [
    {
     "name": "stdout",
     "output_type": "stream",
     "text": [
      "[{'Name': 'Bahamas', 'Month': 'September', 'Year': 1932, 'Max Sustained Wind': 160, 'Areas Affected': ['The Bahamas', 'Northeastern United States'], 'Damage': 'Damages not recorded', 'Deaths': 16}, {'Name': 'Cuba II', 'Month': 'November', 'Year': 1932, 'Max Sustained Wind': 175, 'Areas Affected': ['Lesser Antilles', 'Jamaica', 'Cayman Islands', 'Cuba', 'The Bahamas', 'Bermuda'], 'Damage': 40000000.0, 'Deaths': 3103}]\n"
     ]
    }
   ],
   "source": [
    "hurricane_dictionary_by_year = {}\n",
    "def create_hurricane_dictionary_by_year(hurricane_dictionary):\n",
    "    for key, value in hurricane_dictionary.items():\n",
    "        current_year = hurricane_dictionary.get(key)['Year']\n",
    "        current_cane = key\n",
    "        if current_year in hurricane_dictionary_by_year:\n",
    "            if not isinstance(hurricane_dictionary_by_year[current_year], list):\n",
    "                hurricane_dictionary_by_year[current_year] = [hurricane_dictionary_by_year[current_year]]\n",
    "            hurricane_dictionary_by_year[current_year].append(hurricane_dictionary.get(current_cane))    \n",
    "        else:\n",
    "            hurricane_dictionary_by_year.update({current_year:hurricane_dictionary.get(current_cane)})\n",
    "\n",
    "create_hurricane_dictionary_by_year(hurricane_dictionary)\n",
    "print(hurricane_dictionary_by_year[1932])\n",
    "            "
   ]
  },
  {
   "cell_type": "code",
   "execution_count": 82,
   "id": "7227bfd3",
   "metadata": {},
   "outputs": [
    {
     "name": "stdout",
     "output_type": "stream",
     "text": [
      "{'Central America': 145, 'Mexico': 138, 'Cuba': 127, 'Florida': 116, 'The Bahamas': 202, 'Lesser Antilles': 91, 'United States East Coast': 52, 'Atlantic Canada': 63, 'Northeastern United States': 59, 'Jamaica': 86, 'Cayman Islands': 31, 'Bermuda': 57, 'Texas': 86, 'Tamaulipas': 30, 'Yucatn Peninsula': 59, 'Georgia': 28, 'The Carolinas': 28, 'Virginia': 28, 'Southeastern United States': 27, 'Southwestern Quebec': 27, 'New England': 26, 'Louisiana': 24, 'Midwestern United States': 24, 'The Caribbean': 112, 'United States Gulf Coast': 83, 'United States East coast': 18, 'South Texas': 17, 'Venezuela': 31, 'Hispaniola': 16, 'South Florida': 13, 'Greater Antilles': 19, 'Bahamas': 21, 'Eastern United States': 12, 'Ontario': 12, 'Windward Islands': 10, 'Nicaragua': 5, 'Honduras': 5, 'Antilles': 4, 'Colombia': 4, 'Cape Verde': 3, 'British Virgin Islands': 3, 'U.S. Virgin Islands': 3, 'Virgin Islands': 2, 'Puerto Rico': 2, 'Dominican Republic': 2, 'Turks and Caicos Islands': 2, 'United States Gulf Coast (especially Florida Panhandle)': 1}\n"
     ]
    }
   ],
   "source": [
    "hurricane_dictionary_by_area_affected = {}\n",
    "areas_affected = []\n",
    "areas_flat_list = []\n",
    "\n",
    "def create_areas_affected_dictionary(hurricane_dictionary):\n",
    "    for key, value in hurricane_dictionary.items():\n",
    "        areas = hurricane_dictionary[key]['Areas Affected']\n",
    "        areas_affected.append(areas)\n",
    "        for sublist in areas_affected:\n",
    "            for item in sublist:\n",
    "                areas_flat_list.append(item)\n",
    "        for thing in areas_flat_list:\n",
    "            area_count = areas_flat_list.count(thing)\n",
    "            hurricane_dictionary_by_area_affected.update({thing:area_count})\n",
    "\n",
    "create_areas_affected_dictionary(hurricane_dictionary)\n",
    "print(hurricane_dictionary_by_area_affected)\n",
    "\n",
    "        "
   ]
  },
  {
   "cell_type": "code",
   "execution_count": 97,
   "id": "c389cadf",
   "metadata": {},
   "outputs": [
    {
     "name": "stdout",
     "output_type": "stream",
     "text": [
      "['The Bahamas', 202]\n"
     ]
    }
   ],
   "source": [
    "most_hit_area = []\n",
    "def find_most_hit_area(hurricane_dictionary_by_area_affected):\n",
    "    highest_value = 0\n",
    "    for key, value in hurricane_dictionary_by_area_affected.items():\n",
    "        if value > highest_value:\n",
    "            most_hit = key\n",
    "            highest_value = value\n",
    "        else:\n",
    "            continue\n",
    "    most_hit_area = [most_hit, highest_value]\n",
    "    return most_hit_area\n",
    "\n",
    "print(find_most_hit_area(hurricane_dictionary_by_area_affected))"
   ]
  },
  {
   "cell_type": "code",
   "execution_count": 98,
   "id": "25b67edb",
   "metadata": {},
   "outputs": [
    {
     "name": "stdout",
     "output_type": "stream",
     "text": [
      "['Mitch', 19325]\n"
     ]
    }
   ],
   "source": [
    "deadliest_hurricane = []\n",
    "\n",
    "def find_deadliest_hurricane(hurricane_dictionary):\n",
    "    most_deaths = 0\n",
    "    for key, value in hurricane_dictionary.items():\n",
    "        if value['Deaths'] > most_deaths:\n",
    "            deadliest = key\n",
    "            most_deaths = value['Deaths']\n",
    "        else:\n",
    "            continue\n",
    "        deadliest_hurricane = [deadliest, most_deaths]\n",
    "    return deadliest_hurricane\n",
    "\n",
    "print(find_deadliest_hurricane(hurricane_dictionary))"
   ]
  },
  {
   "cell_type": "code",
   "execution_count": null,
   "id": "235ecd22",
   "metadata": {},
   "outputs": [],
   "source": [
    "mortality_scale = {0: 0,\n",
    "                   1: 100,\n",
    "                   2: 500,\n",
    "                   3: 1000,\n",
    "                   4: 10000}"
   ]
  },
  {
   "cell_type": "code",
   "execution_count": 101,
   "id": "ad968019",
   "metadata": {},
   "outputs": [],
   "source": [
    "mortality_rating_dictionary = {}\n",
    "\n",
    "def fill_mortality_rating_dictionary(hurricane_dictionary):\n",
    "    for key, value in hurricane_dictionary.items():\n",
    "        if value['Deaths'] == 0:\n",
    "            mortality_rating_dictionary.update({0:value})\n",
    "        elif value['Deaths'] <= 100:\n",
    "            mortality_rating_dictionary.update({1:value})\n",
    "        elif value['Deaths'] <= 500:\n",
    "            mortality_rating_dictionary.update({2:value})\n",
    "        elif value['Deaths'] <= 1000:\n",
    "            mortality_rating_dictionary.update({3:value})\n",
    "        elif value['Deaths'] <= 10000:\n",
    "            mortality_rating_dictionary.update({4:value})\n",
    "        elif value['Deaths'] > 10000:\n",
    "            mortality_rating_dictionary.update({5:value})\n",
    "\n",
    "fill_mortality_rating_dictionary(hurricane_dictionary)"
   ]
  },
  {
   "cell_type": "code",
   "execution_count": 107,
   "id": "852e40f5",
   "metadata": {},
   "outputs": [
    {
     "name": "stdout",
     "output_type": "stream",
     "text": [
      "['Katrina', 125000000000.0]\n"
     ]
    }
   ],
   "source": [
    "most_damaging_hurricane = []\n",
    "\n",
    "def find_most_damaging_hurricane(hurricane_dictionary):\n",
    "    most_damage = 0\n",
    "    for key, value in hurricane_dictionary.items():\n",
    "        if value['Damage'] == 'Damages not recorded':\n",
    "            continue\n",
    "        elif value['Damage'] > most_damage:\n",
    "            cane = key\n",
    "            most_damage = value['Damage']\n",
    "        else:\n",
    "            continue\n",
    "        most_damaging_hurricane = [cane, most_damage]\n",
    "    return most_damaging_hurricane\n",
    "\n",
    "print(find_most_damaging_hurricane(hurricane_dictionary))\n"
   ]
  }
 ],
 "metadata": {
  "kernelspec": {
   "display_name": "Python 3 (ipykernel)",
   "language": "python",
   "name": "python3"
  },
  "language_info": {
   "codemirror_mode": {
    "name": "ipython",
    "version": 3
   },
   "file_extension": ".py",
   "mimetype": "text/x-python",
   "name": "python",
   "nbconvert_exporter": "python",
   "pygments_lexer": "ipython3",
   "version": "3.9.5"
  }
 },
 "nbformat": 4,
 "nbformat_minor": 5
}
